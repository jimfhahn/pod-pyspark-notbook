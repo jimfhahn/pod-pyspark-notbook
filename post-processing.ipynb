{
 "cells": [
  {
   "cell_type": "markdown",
   "metadata": {},
   "source": [
    "# POST Processing POD Reports\n",
    "\n",
    "This notebook filters POD reports based on institution-specific requirements such as data type preferences and recency. Because new uploads are added to POD daily, we use the BorrowDirect API to verify that each item is unique.\n",
    "\n",
    "The primary goal of this notebook is to confirm that an item is **not** held by any BorrowDirect institution besides Penn. Only items with only Penn holdings are included in the final report.\n",
    "\n",
    "**Note:** An additional filter excludes collections held at other institutions, even if their records appear in our ILS, when they are not held by Penn Libraries."
   ]
  },
  {
   "cell_type": "code",
   "execution_count": 2,
   "metadata": {},
   "outputs": [],
   "source": [
    "# load xlsx file into pandas dataframe\n",
    "import pandas as pd\n",
    "import numpy as np\n",
    "\n",
    "# load xlsx file into pandas dataframe\n",
    "df = pd.read_excel('unique_penn_text.xlsx')"
   ]
  },
  {
   "cell_type": "code",
   "execution_count": 3,
   "metadata": {},
   "outputs": [
    {
     "name": "stdout",
     "output_type": "stream",
     "text": [
      "Index(['key', 'F001', 'F010_str', 'F245', 'normalized_title',\n",
      "       'normalized_edition', 'normalized_pub', 'source', 'match_key',\n",
      "       'F007_str', 'F020_str', 'F250_str', 'F260_str', 'id_list_str',\n",
      "       'key_array_str', 'F007_code', 'F007_desc'],\n",
      "      dtype='object')\n"
     ]
    }
   ],
   "source": [
    "# show columns\n",
    "print(df.columns)"
   ]
  },
  {
   "cell_type": "code",
   "execution_count": 4,
   "metadata": {},
   "outputs": [
    {
     "name": "stdout",
     "output_type": "stream",
     "text": [
      "                                                 key              F001  \\\n",
      "0  8604 forrest avenue philadelphia pennsylvania ...  9978845258603681   \n",
      "1                                      9789381005408  9978085185803681   \n",
      "2                                      9788170565628  9977914437003681   \n",
      "3                            9788126423415 paperback  9962328533503681   \n",
      "4                                         8192611396  9978003905503681   \n",
      "\n",
      "  F010_str                                               F245  \\\n",
      "0      NaN  8604 Forrest avenue, Philadelphia, Pennsylvani...   \n",
      "1      NaN  880-01 Bhāratīya citrakalā meṃ Jaina citra...   \n",
      "2      NaN  880-01 Kamaleśvara ke kathā-sāhitya meṃ ma...   \n",
      "3      NaN  880-01 Mālguḍidinaṅṅaḷ / Ār. Ke. Nārāy...   \n",
      "4      NaN  880-01 Mōhanasvāmi : kathāsaṅkalana / Vasu...   \n",
      "\n",
      "                                    normalized_title       normalized_edition  \\\n",
      "0  8604 forrest avenue philadelphia pennsylvania ...                      NaN   \n",
      "1  880-01 bhāratīya citrakalā meṃ jaina citra...  880-02 1. saṃskaraṇa.   \n",
      "2  880-01 kamaleśvara ke kathā-sāhitya meṃ ma...   880-02 saṃskaraṇa 1.   \n",
      "3  880-01 mālguḍidinaṅṅaḷ / ār. ke. nārāy...                      NaN   \n",
      "4  880-01 mōhanasvāmi : kathāsaṅkalana / vasu...                      NaN   \n",
      "\n",
      "                                      normalized_pub source  \\\n",
      "0  new york ny american equitable assurance compa...   penn   \n",
      "1                                                NaN   penn   \n",
      "2                                                NaN   penn   \n",
      "3                                                NaN   penn   \n",
      "4                                                NaN   penn   \n",
      "\n",
      "                                           match_key F007_str  \\\n",
      "0  8604 forrest avenue philadelphia pennsylvania ...       tz   \n",
      "1  880-01 bhāratīya citrakalā meṃ jaina citra...       ta   \n",
      "2  880-01 kamaleśvara ke kathā-sāhitya meṃ ma...       ta   \n",
      "3  880-01 mālguḍidinaṅṅaḷ / ār. ke. nārāy...       ta   \n",
      "4  880-01 mōhanasvāmi : kathāsaṅkalana / vasu...       ta   \n",
      "\n",
      "                  F020_str                 F250_str  \\\n",
      "0                      NaN                      NaN   \n",
      "1            9789381005408  880-02 1. saṃskaraṇa.   \n",
      "2            9788170565628   880-02 Saṃskaraṇa 1.   \n",
      "3  9788126423415 paperback                      NaN   \n",
      "4               8192611396                      NaN   \n",
      "\n",
      "                                            F260_str              id_list_str  \\\n",
      "0  New York, N.Y. : American Equitable Assurance ...                      NaN   \n",
      "1                                                NaN            9789381005408   \n",
      "2                                                NaN            9788170565628   \n",
      "3                                                NaN  9788126423415 paperback   \n",
      "4                                                NaN               8192611396   \n",
      "\n",
      "                                       key_array_str F007_code F007_desc  \n",
      "0  8604 forrest avenue philadelphia pennsylvania ...         t      Text  \n",
      "1                                      9789381005408         t      Text  \n",
      "2                                      9788170565628         t      Text  \n",
      "3                            9788126423415 paperback         t      Text  \n",
      "4                                         8192611396         t      Text  \n"
     ]
    }
   ],
   "source": [
    "# Ensure F001 is a string, then replace any occurrence ending with \"03680\" with \"03681\"\n",
    "df['F001'] = df['F001'].astype(str).str.replace(r'03680$', '03681', regex=True)\n",
    "\n",
    "print(df.head())"
   ]
  },
  {
   "cell_type": "code",
   "execution_count": 5,
   "metadata": {},
   "outputs": [
    {
     "name": "stdout",
     "output_type": "stream",
     "text": [
      "True\n"
     ]
    }
   ],
   "source": [
    "# check if the key column is unique\n",
    "print(df['match_key'].is_unique)"
   ]
  },
  {
   "cell_type": "code",
   "execution_count": 6,
   "metadata": {},
   "outputs": [
    {
     "name": "stdout",
     "output_type": "stream",
     "text": [
      "False\n"
     ]
    }
   ],
   "source": [
    "# are there any rows in match_key that are empty?\n",
    "print(df['match_key'].isnull().values.any())"
   ]
  },
  {
   "cell_type": "code",
   "execution_count": 7,
   "metadata": {},
   "outputs": [
    {
     "name": "stdout",
     "output_type": "stream",
     "text": [
      "0\n"
     ]
    }
   ],
   "source": [
    "# count the number of rows with match_key empty\n",
    "print(df['match_key'].isnull().sum())"
   ]
  },
  {
   "cell_type": "code",
   "execution_count": null,
   "metadata": {},
   "outputs": [],
   "source": [
    "# load hsp-removed-mmsid.txt into a list\n",
    "with open('hsp-removed-mmsid.txt') as f:\n",
    "    hsp_removed_mmsid = f.read().splitlines()\n",
    "\n",
    "# filter out rows with MMSIDs that are not in this list\n",
    "df = df[df['F001'].isin(hsp_removed_mmsid)]"
   ]
  },
  {
   "cell_type": "code",
   "execution_count": 42,
   "metadata": {},
   "outputs": [
    {
     "name": "stdout",
     "output_type": "stream",
     "text": [
      "(4670, 17)\n"
     ]
    }
   ],
   "source": [
    "# how many rows are left?\n",
    "print(df.shape)"
   ]
  },
  {
   "cell_type": "code",
   "execution_count": null,
   "metadata": {},
   "outputs": [],
   "source": [
    "import time\n",
    "import requests\n",
    "import pandas as pd\n",
    "\n",
    "def get_borrowdir_ids(match_key):\n",
    "    url = f\"https://borrowdirect.reshare.indexdata.com/api/v1/search?lookfor={match_key}\"\n",
    "    response = requests.get(url)\n",
    "    data = response.json()\n",
    "    # Collect all ids; use set() to ensure uniqueness if desired.\n",
    "    ids = list(set(record['id'] for record in data.get('records', [])))\n",
    "    time.sleep(1)  # Throttle the requests by sleeping for 1 second\n",
    "    return ids\n",
    "\n",
    "# Apply the function to your sample DataFrame.\n",
    "df['borrowdir_id'] = df['match_key'].apply(get_borrowdir_ids)\n",
    "\n",
    "print(df.head())"
   ]
  },
  {
   "cell_type": "code",
   "execution_count": 37,
   "metadata": {},
   "outputs": [
    {
     "name": "stdout",
     "output_type": "stream",
     "text": [
      "Collecting selenium\n",
      "  Downloading selenium-4.29.0-py3-none-any.whl.metadata (7.1 kB)\n",
      "Requirement already satisfied: urllib3<3,>=1.26 in /Users/jimhahn/.pyenv/versions/3.10.0/lib/python3.10/site-packages (from urllib3[socks]<3,>=1.26->selenium) (2.0.3)\n",
      "Collecting trio~=0.17 (from selenium)\n",
      "  Downloading trio-0.29.0-py3-none-any.whl.metadata (8.5 kB)\n",
      "Collecting trio-websocket~=0.9 (from selenium)\n",
      "  Downloading trio_websocket-0.12.2-py3-none-any.whl.metadata (5.1 kB)\n",
      "Requirement already satisfied: certifi>=2021.10.8 in /Users/jimhahn/.pyenv/versions/3.10.0/lib/python3.10/site-packages (from selenium) (2023.5.7)\n",
      "Collecting typing_extensions~=4.9 (from selenium)\n",
      "  Using cached typing_extensions-4.12.2-py3-none-any.whl.metadata (3.0 kB)\n",
      "Collecting websocket-client~=1.8 (from selenium)\n",
      "  Downloading websocket_client-1.8.0-py3-none-any.whl.metadata (8.0 kB)\n",
      "Collecting attrs>=23.2.0 (from trio~=0.17->selenium)\n",
      "  Downloading attrs-25.3.0-py3-none-any.whl.metadata (10 kB)\n",
      "Collecting sortedcontainers (from trio~=0.17->selenium)\n",
      "  Using cached sortedcontainers-2.4.0-py2.py3-none-any.whl.metadata (10 kB)\n",
      "Requirement already satisfied: idna in /Users/jimhahn/.pyenv/versions/3.10.0/lib/python3.10/site-packages (from trio~=0.17->selenium) (3.4)\n",
      "Collecting outcome (from trio~=0.17->selenium)\n",
      "  Using cached outcome-1.3.0.post0-py2.py3-none-any.whl.metadata (2.6 kB)\n",
      "Requirement already satisfied: sniffio>=1.3.0 in /Users/jimhahn/.pyenv/versions/3.10.0/lib/python3.10/site-packages (from trio~=0.17->selenium) (1.3.0)\n",
      "Requirement already satisfied: exceptiongroup in /Users/jimhahn/.pyenv/versions/3.10.0/lib/python3.10/site-packages (from trio~=0.17->selenium) (1.1.3)\n",
      "Collecting wsproto>=0.14 (from trio-websocket~=0.9->selenium)\n",
      "  Using cached wsproto-1.2.0-py3-none-any.whl.metadata (5.6 kB)\n",
      "Collecting pysocks!=1.5.7,<2.0,>=1.5.6 (from urllib3[socks]<3,>=1.26->selenium)\n",
      "  Using cached PySocks-1.7.1-py3-none-any.whl.metadata (13 kB)\n",
      "Requirement already satisfied: h11<1,>=0.9.0 in /Users/jimhahn/.pyenv/versions/3.10.0/lib/python3.10/site-packages (from wsproto>=0.14->trio-websocket~=0.9->selenium) (0.14.0)\n",
      "Downloading selenium-4.29.0-py3-none-any.whl (9.5 MB)\n",
      "\u001b[2K   \u001b[90m━━━━━━━━━━━━━━━━━━━━━━━━━━━━━━━━━━━━━━━━\u001b[0m \u001b[32m9.5/9.5 MB\u001b[0m \u001b[31m41.5 MB/s\u001b[0m eta \u001b[36m0:00:00\u001b[0ma \u001b[36m0:00:01\u001b[0m\n",
      "\u001b[?25hDownloading trio-0.29.0-py3-none-any.whl (492 kB)\n",
      "Downloading trio_websocket-0.12.2-py3-none-any.whl (21 kB)\n",
      "Using cached typing_extensions-4.12.2-py3-none-any.whl (37 kB)\n",
      "Downloading websocket_client-1.8.0-py3-none-any.whl (58 kB)\n",
      "Downloading attrs-25.3.0-py3-none-any.whl (63 kB)\n",
      "Using cached outcome-1.3.0.post0-py2.py3-none-any.whl (10 kB)\n",
      "Using cached PySocks-1.7.1-py3-none-any.whl (16 kB)\n",
      "Using cached wsproto-1.2.0-py3-none-any.whl (24 kB)\n",
      "Using cached sortedcontainers-2.4.0-py2.py3-none-any.whl (29 kB)\n",
      "Installing collected packages: sortedcontainers, wsproto, websocket-client, typing_extensions, pysocks, attrs, outcome, trio, trio-websocket, selenium\n",
      "  Attempting uninstall: typing_extensions\n",
      "    Found existing installation: typing_extensions 4.8.0\n",
      "    Uninstalling typing_extensions-4.8.0:\n",
      "      Successfully uninstalled typing_extensions-4.8.0\n",
      "  Attempting uninstall: attrs\n",
      "    Found existing installation: attrs 23.1.0\n",
      "    Uninstalling attrs-23.1.0:\n",
      "      Successfully uninstalled attrs-23.1.0\n",
      "Successfully installed attrs-25.3.0 outcome-1.3.0.post0 pysocks-1.7.1 selenium-4.29.0 sortedcontainers-2.4.0 trio-0.29.0 trio-websocket-0.12.2 typing_extensions-4.12.2 websocket-client-1.8.0 wsproto-1.2.0\n",
      "\n",
      "\u001b[1m[\u001b[0m\u001b[34;49mnotice\u001b[0m\u001b[1;39;49m]\u001b[0m\u001b[39;49m A new release of pip is available: \u001b[0m\u001b[31;49m24.3.1\u001b[0m\u001b[39;49m -> \u001b[0m\u001b[32;49m25.0.1\u001b[0m\n",
      "\u001b[1m[\u001b[0m\u001b[34;49mnotice\u001b[0m\u001b[1;39;49m]\u001b[0m\u001b[39;49m To update, run: \u001b[0m\u001b[32;49mpip install --upgrade pip\u001b[0m\n"
     ]
    }
   ],
   "source": [
    "!pip install selenium"
   ]
  },
  {
   "cell_type": "code",
   "execution_count": null,
   "metadata": {},
   "outputs": [
    {
     "name": "stdout",
     "output_type": "stream",
     "text": [
      "Accessing URL: https://borrowdirect.reshare.indexdata.com/Record/YOUR_KNOWN_BORROWDIR_ID/Holdings\n",
      "Error encountered: Message: no such element: Unable to locate element: {\"method\":\"css selector\",\"selector\":\"div.tab-content\"}\n",
      "  (Session info: chrome=131.0.6778.265); For documentation on this error, please visit: https://www.selenium.dev/documentation/webdriver/troubleshooting/errors#no-such-element-exception\n",
      "Stacktrace:\n",
      "0   chromedriver                        0x0000000100cce138 cxxbridge1$str$ptr + 3653888\n",
      "1   chromedriver                        0x0000000100cc6988 cxxbridge1$str$ptr + 3623248\n",
      "2   chromedriver                        0x000000010072c968 cxxbridge1$string$len + 89228\n",
      "3   chromedriver                        0x0000000100770d4c cxxbridge1$string$len + 368752\n",
      "4   chromedriver                        0x00000001007aa4f0 cxxbridge1$string$len + 604180\n",
      "5   chromedriver                        0x0000000100765564 cxxbridge1$string$len + 321672\n",
      "6   chromedriver                        0x00000001007661b4 cxxbridge1$string$len + 324824\n",
      "7   chromedriver                        0x0000000100c98fc0 cxxbridge1$str$ptr + 3436424\n",
      "8   chromedriver                        0x0000000100c9c2dc cxxbridge1$str$ptr + 3449508\n",
      "9   chromedriver                        0x0000000100c7fe60 cxxbridge1$str$ptr + 3333672\n",
      "10  chromedriver                        0x0000000100c9cb9c cxxbridge1$str$ptr + 3451748\n",
      "11  chromedriver                        0x0000000100c71678 cxxbridge1$str$ptr + 3274304\n",
      "12  chromedriver                        0x0000000100cb72b4 cxxbridge1$str$ptr + 3560060\n",
      "13  chromedriver                        0x0000000100cb7430 cxxbridge1$str$ptr + 3560440\n",
      "14  chromedriver                        0x0000000100cc65fc cxxbridge1$str$ptr + 3622340\n",
      "15  libsystem_pthread.dylib             0x0000000190f81f94 _pthread_start + 136\n",
      "16  libsystem_pthread.dylib             0x0000000190f7cd34 thread_start + 8\n",
      "\n",
      "False\n",
      "Accessing URL: https://borrowdirect.reshare.indexdata.com/Record/b5c67eee-8fad-450f-8ec5-91b07aada145/Holdings\n",
      "Institutions found: {'University of Pennsylvania'}\n",
      "Accessing URL: https://borrowdirect.reshare.indexdata.com/Record/e72572d4-770c-464a-b7af-fea4bed65e3a/Holdings\n",
      "Institutions found: {'Harvard University', 'Dartmouth College', 'Yale University', 'Stanford University', 'Cornell University', 'Princeton University', 'Columbia University', 'University of Chicago', 'Brown University', 'Duke University'}\n",
      "Accessing URL: https://borrowdirect.reshare.indexdata.com/Record/19c32490-3052-4aed-b947-dce0f9d1c2b4/Holdings\n",
      "Institutions found: set()\n",
      "Accessing URL: https://borrowdirect.reshare.indexdata.com/Record/5da59310-4338-42da-a015-b19fac02488a/Holdings\n",
      "Institutions found: {'Columbia University', 'Yale University', 'University of Pennsylvania'}\n",
      "Accessing URL: https://borrowdirect.reshare.indexdata.com/Record/14f47cd3-169e-40f4-9e3d-9331f10e3415/Holdings\n",
      "Institutions found: {'University of Pennsylvania'}\n",
      "Accessing URL: https://borrowdirect.reshare.indexdata.com/Record/b2a5adf6-27a7-4264-b12c-25d50d0bacc8/Holdings\n",
      "Institutions found: {'University of Pennsylvania'}\n",
      "Accessing URL: https://borrowdirect.reshare.indexdata.com/Record/5b90448e-9aad-47bb-ae99-b3d9afbd2aa1/Holdings\n",
      "Institutions found: set()\n",
      "Accessing URL: https://borrowdirect.reshare.indexdata.com/Record/03e47f72-e1ae-48d4-bce2-8e229fd3ba26/Holdings\n",
      "Institutions found: {'University of Pennsylvania'}\n",
      "Accessing URL: https://borrowdirect.reshare.indexdata.com/Record/b4cdf357-8a81-4bd2-8ef9-bea7d4b97206/Holdings\n",
      "Institutions found: {'University of Pennsylvania'}\n",
      "Accessing URL: https://borrowdirect.reshare.indexdata.com/Record/cc22557b-1d2a-46d0-9e8a-0383866c6a32/Holdings\n",
      "Institutions found: {'Harvard University', 'University of Chicago', 'University of Pennsylvania'}\n",
      "Accessing URL: https://borrowdirect.reshare.indexdata.com/Record/0986ca53-6e7c-4a5d-bf1d-2a7a704e6f53/Holdings\n",
      "Institutions found: set()\n",
      "Accessing URL: https://borrowdirect.reshare.indexdata.com/Record/deb7ec8a-3f3b-47fc-8cbb-05b76c97bbbd/Holdings\n",
      "Institutions found: {'Stanford University', 'University of Pennsylvania'}\n",
      "Accessing URL: https://borrowdirect.reshare.indexdata.com/Record/e270dcd1-fad9-4a2d-92bb-8a24eaab9939/Holdings\n",
      "Institutions found: {'Harvard University', 'Dartmouth College', 'Yale University', 'Stanford University', 'Cornell University', 'Johns Hopkins University', 'Princeton University', 'University of Chicago', 'Massachusetts Institute of Technology', 'Brown University', 'University of Pennsylvania'}\n",
      "Accessing URL: https://borrowdirect.reshare.indexdata.com/Record/8d8cd1f8-41eb-43c7-92eb-1891e541f675/Holdings\n",
      "Institutions found: set()\n",
      "Accessing URL: https://borrowdirect.reshare.indexdata.com/Record/be6f9b00-82ea-43d7-b22d-78183d3702da/Holdings\n",
      "Institutions found: {'Princeton University', 'University of Pennsylvania'}\n",
      "Accessing URL: https://borrowdirect.reshare.indexdata.com/Record/c87af29a-5f8d-42a5-82e7-b080d803fc61/Holdings\n",
      "Institutions found: {'Columbia University', 'University of Chicago', 'Cornell University'}\n",
      "Accessing URL: https://borrowdirect.reshare.indexdata.com/Record/67619e52-a19d-4b84-b4b3-5033af6c8a2b/Holdings\n",
      "Institutions found: set()\n",
      "Any True values? True\n"
     ]
    }
   ],
   "source": [
    "import time\n",
    "from selenium import webdriver\n",
    "from selenium.webdriver.chrome.options import Options\n",
    "from selenium.webdriver.common.by import By\n",
    "\n",
    "def check_up_holdings_selenium(borrowdir_id, debug=False):\n",
    "    url = f\"https://borrowdirect.reshare.indexdata.com/Record/{borrowdir_id}/Holdings\"\n",
    "    \n",
    "    chrome_options = Options()\n",
    "    chrome_options.add_argument(\"--headless\")\n",
    "    driver = webdriver.Chrome(options=chrome_options)\n",
    "    \n",
    "    driver.get(url)\n",
    "    # Wait for the dynamic content to load; adjust as necessary.\n",
    "    time.sleep(3)\n",
    "    \n",
    "    if debug:\n",
    "        print(\"Accessing URL:\", url)\n",
    "    \n",
    "    try:\n",
    "        # Locate the main tab content container\n",
    "        tab_content = driver.find_element(By.CSS_SELECTOR, \"div.tab-content\")\n",
    "        # Within tab_content, get the active holdings pane\n",
    "        holdings_div = tab_content.find_element(By.CSS_SELECTOR, \"div.tab-pane.holdings-tab.active\")\n",
    "        # Look for h3 elements within the holdings pane\n",
    "        h3_tags = holdings_div.find_elements(By.TAG_NAME, \"h3\")\n",
    "        institutions = set(tag.text.strip() for tag in h3_tags if tag.text.strip())\n",
    "        if debug:\n",
    "            print(\"Institutions found:\", institutions)\n",
    "        result = (institutions == {\"University of Pennsylvania\"})\n",
    "    except Exception as e:\n",
    "        if debug:\n",
    "            print(\"Error encountered:\", e)\n",
    "        result = False\n",
    "    driver.quit()\n",
    "    return result\n",
    "\n",
    "# Example debugging usage\n",
    "print(check_up_holdings_selenium(\"YOUR_KNOWN_BORROWDIR_ID\", debug=True))\n",
    "\n",
    "# Continue processing your DataFrame.\n",
    "df_exploded = df.explode('borrowdir_id').reset_index(drop=True)\n",
    "df_exploded['up_holdings'] = df_exploded['borrowdir_id'].apply(lambda x: check_up_holdings_selenium(x, debug=True))\n",
    "print(\"Any True values?\", df_exploded['up_holdings'].any())"
   ]
  },
  {
   "cell_type": "code",
   "execution_count": 39,
   "metadata": {},
   "outputs": [
    {
     "name": "stdout",
     "output_type": "stream",
     "text": [
      "True\n"
     ]
    }
   ],
   "source": [
    "# are there any rows where up_holdings is true?\n",
    "print(df_exploded['up_holdings'].any())"
   ]
  },
  {
   "cell_type": "code",
   "execution_count": 40,
   "metadata": {},
   "outputs": [
    {
     "name": "stdout",
     "output_type": "stream",
     "text": [
      "                    key              F001 F010_str  \\\n",
      "0         9788126435432  9959112523503681      NaN   \n",
      "4         9789380869780  9958147613503681      NaN   \n",
      "5            3865814115  9977400846503681      NaN   \n",
      "7  8171308090 paperback  9961600093503681      NaN   \n",
      "8  8171308090 paperback  9961600093503681      NaN   \n",
      "\n",
      "                                                F245  \\\n",
      "0  880-01 Prācīna lōkacaritraṃ / Her̲oḍōṭt...   \n",
      "4       880-01 Himālaẏera sānnidhye / Svapana De.   \n",
      "5  Sylvicultura oeconomica oder Haußwirthliche Na...   \n",
      "7          880-01 Marunn / Punattil Kuññabduḷḷa.   \n",
      "8          880-01 Marunn / Punattil Kuññabduḷḷa.   \n",
      "\n",
      "                                    normalized_title normalized_edition  \\\n",
      "0  880-01 prācīna lōkacaritraṃ / her̲oḍōṭt...                NaN   \n",
      "4       880-01 himālaẏera sānnidhye / svapana de.                NaN   \n",
      "5  sylvicultura oeconomica oder haußwirthliche na...                NaN   \n",
      "7          880-01 marunn / punattil kuññabduḷḷa.                NaN   \n",
      "8          880-01 marunn / punattil kuññabduḷḷa.                NaN   \n",
      "\n",
      "  normalized_pub source                                          match_key  \\\n",
      "0            NaN   penn  880-01 prācīna lōkacaritraṃ / her̲oḍōṭt...   \n",
      "4            NaN   penn       880-01 himālaẏera sānnidhye / svapana de.   \n",
      "5            NaN   penn  sylvicultura oeconomica oder haußwirthliche na...   \n",
      "7            NaN   penn          880-01 marunn / punattil kuññabduḷḷa.   \n",
      "8            NaN   penn          880-01 marunn / punattil kuññabduḷḷa.   \n",
      "\n",
      "  F007_str                   F020_str F250_str F260_str  \\\n",
      "0       ta              9788126435432      NaN      NaN   \n",
      "4       ta              9789380869780      NaN      NaN   \n",
      "5       tu  3865814115; 9783865814111      NaN      NaN   \n",
      "7       ta       8171308090 paperback      NaN      NaN   \n",
      "8       ta       8171308090 paperback      NaN      NaN   \n",
      "\n",
      "                 id_list_str              key_array_str F007_code F007_desc  \\\n",
      "0              9788126435432              9788126435432         t      Text   \n",
      "4              9789380869780              9789380869780         t      Text   \n",
      "5  3865814115; 9783865814111  3865814115; 9783865814111         t      Text   \n",
      "7       8171308090 paperback       8171308090 paperback         t      Text   \n",
      "8       8171308090 paperback       8171308090 paperback         t      Text   \n",
      "\n",
      "                           borrowdir_id  up_holdings  \n",
      "0  b5c67eee-8fad-450f-8ec5-91b07aada145         True  \n",
      "4  14f47cd3-169e-40f4-9e3d-9331f10e3415         True  \n",
      "5  b2a5adf6-27a7-4264-b12c-25d50d0bacc8         True  \n",
      "7  03e47f72-e1ae-48d4-bce2-8e229fd3ba26         True  \n",
      "8  b4cdf357-8a81-4bd2-8ef9-bea7d4b97206         True  \n"
     ]
    }
   ],
   "source": [
    "# which ids have up_holdings as true?\n",
    "print(df_exploded[df_exploded['up_holdings']])"
   ]
  }
 ],
 "metadata": {
  "kernelspec": {
   "display_name": "Python 3",
   "language": "python",
   "name": "python3"
  },
  "language_info": {
   "codemirror_mode": {
    "name": "ipython",
    "version": 3
   },
   "file_extension": ".py",
   "mimetype": "text/x-python",
   "name": "python",
   "nbconvert_exporter": "python",
   "pygments_lexer": "ipython3",
   "version": "3.10.0"
  }
 },
 "nbformat": 4,
 "nbformat_minor": 2
}
