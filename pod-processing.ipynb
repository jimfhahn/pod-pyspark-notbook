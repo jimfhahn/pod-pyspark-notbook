{
 "cells": [
  {
   "cell_type": "code",
   "execution_count": 1,
   "metadata": {
    "tags": []
   },
   "outputs": [
    {
     "name": "stderr",
     "output_type": "stream",
     "text": [
      "\n",
      "A module that was compiled using NumPy 1.x cannot be run in\n",
      "NumPy 2.2.2 as it may crash. To support both 1.x and 2.x\n",
      "versions of NumPy, modules must be compiled with NumPy 2.0.\n",
      "Some module may need to rebuild instead e.g. with 'pybind11>=2.12'.\n",
      "\n",
      "If you are a user of the module, the easiest solution will be to\n",
      "downgrade to 'numpy<2' or try to upgrade the affected module.\n",
      "We expect that some modules will need time to support NumPy 2.\n",
      "\n",
      "Traceback (most recent call last):  File \"/usr/local/lib/python3.11/runpy.py\", line 198, in _run_module_as_main\n",
      "    return _run_code(code, main_globals, None,\n",
      "  File \"/usr/local/lib/python3.11/runpy.py\", line 88, in _run_code\n",
      "    exec(code, run_globals)\n",
      "  File \"/home/jovyan/work/Python-3.11.0/myenv/lib/python3.11/site-packages/ipykernel_launcher.py\", line 18, in <module>\n",
      "    app.launch_new_instance()\n",
      "  File \"/home/jovyan/work/Python-3.11.0/myenv/lib/python3.11/site-packages/traitlets/config/application.py\", line 1075, in launch_instance\n",
      "    app.start()\n",
      "  File \"/home/jovyan/work/Python-3.11.0/myenv/lib/python3.11/site-packages/ipykernel/kernelapp.py\", line 739, in start\n",
      "    self.io_loop.start()\n",
      "  File \"/home/jovyan/work/Python-3.11.0/myenv/lib/python3.11/site-packages/tornado/platform/asyncio.py\", line 205, in start\n",
      "    self.asyncio_loop.run_forever()\n",
      "  File \"/usr/local/lib/python3.11/asyncio/base_events.py\", line 604, in run_forever\n",
      "    self._run_once()\n",
      "  File \"/usr/local/lib/python3.11/asyncio/base_events.py\", line 1909, in _run_once\n",
      "    handle._run()\n",
      "  File \"/usr/local/lib/python3.11/asyncio/events.py\", line 80, in _run\n",
      "    self._context.run(self._callback, *self._args)\n",
      "  File \"/home/jovyan/work/Python-3.11.0/myenv/lib/python3.11/site-packages/ipykernel/kernelbase.py\", line 545, in dispatch_queue\n",
      "    await self.process_one()\n",
      "  File \"/home/jovyan/work/Python-3.11.0/myenv/lib/python3.11/site-packages/ipykernel/kernelbase.py\", line 534, in process_one\n",
      "    await dispatch(*args)\n",
      "  File \"/home/jovyan/work/Python-3.11.0/myenv/lib/python3.11/site-packages/ipykernel/kernelbase.py\", line 437, in dispatch_shell\n",
      "    await result\n",
      "  File \"/home/jovyan/work/Python-3.11.0/myenv/lib/python3.11/site-packages/ipykernel/ipkernel.py\", line 362, in execute_request\n",
      "    await super().execute_request(stream, ident, parent)\n",
      "  File \"/home/jovyan/work/Python-3.11.0/myenv/lib/python3.11/site-packages/ipykernel/kernelbase.py\", line 778, in execute_request\n",
      "    reply_content = await reply_content\n",
      "  File \"/home/jovyan/work/Python-3.11.0/myenv/lib/python3.11/site-packages/ipykernel/ipkernel.py\", line 449, in do_execute\n",
      "    res = shell.run_cell(\n",
      "  File \"/home/jovyan/work/Python-3.11.0/myenv/lib/python3.11/site-packages/ipykernel/zmqshell.py\", line 549, in run_cell\n",
      "    return super().run_cell(*args, **kwargs)\n",
      "  File \"/home/jovyan/work/Python-3.11.0/myenv/lib/python3.11/site-packages/IPython/core/interactiveshell.py\", line 3075, in run_cell\n",
      "    result = self._run_cell(\n",
      "  File \"/home/jovyan/work/Python-3.11.0/myenv/lib/python3.11/site-packages/IPython/core/interactiveshell.py\", line 3130, in _run_cell\n",
      "    result = runner(coro)\n",
      "  File \"/home/jovyan/work/Python-3.11.0/myenv/lib/python3.11/site-packages/IPython/core/async_helpers.py\", line 128, in _pseudo_sync_runner\n",
      "    coro.send(None)\n",
      "  File \"/home/jovyan/work/Python-3.11.0/myenv/lib/python3.11/site-packages/IPython/core/interactiveshell.py\", line 3334, in run_cell_async\n",
      "    has_raised = await self.run_ast_nodes(code_ast.body, cell_name,\n",
      "  File \"/home/jovyan/work/Python-3.11.0/myenv/lib/python3.11/site-packages/IPython/core/interactiveshell.py\", line 3517, in run_ast_nodes\n",
      "    if await self.run_code(code, result, async_=asy):\n",
      "  File \"/home/jovyan/work/Python-3.11.0/myenv/lib/python3.11/site-packages/IPython/core/interactiveshell.py\", line 3577, in run_code\n",
      "    exec(code_obj, self.user_global_ns, self.user_ns)\n",
      "  File \"/tmp/ipykernel_284/2361202917.py\", line 2, in <module>\n",
      "    import pandas as pd\n",
      "  File \"/home/jovyan/work/Python-3.11.0/myenv/lib/python3.11/site-packages/pandas/__init__.py\", line 26, in <module>\n",
      "    from pandas.compat import (\n",
      "  File \"/home/jovyan/work/Python-3.11.0/myenv/lib/python3.11/site-packages/pandas/compat/__init__.py\", line 27, in <module>\n",
      "    from pandas.compat.pyarrow import (\n",
      "  File \"/home/jovyan/work/Python-3.11.0/myenv/lib/python3.11/site-packages/pandas/compat/pyarrow.py\", line 8, in <module>\n",
      "    import pyarrow as pa\n",
      "  File \"/home/jovyan/work/Python-3.11.0/myenv/lib/python3.11/site-packages/pyarrow/__init__.py\", line 65, in <module>\n",
      "    import pyarrow.lib as _lib\n"
     ]
    },
    {
     "ename": "AttributeError",
     "evalue": "_ARRAY_API not found",
     "output_type": "error",
     "traceback": [
      "\u001b[0;31m---------------------------------------------------------------------------\u001b[0m",
      "\u001b[0;31mAttributeError\u001b[0m                            Traceback (most recent call last)",
      "\u001b[0;31mAttributeError\u001b[0m: _ARRAY_API not found"
     ]
    },
    {
     "name": "stderr",
     "output_type": "stream",
     "text": [
      "\n",
      "A module that was compiled using NumPy 1.x cannot be run in\n",
      "NumPy 2.2.2 as it may crash. To support both 1.x and 2.x\n",
      "versions of NumPy, modules must be compiled with NumPy 2.0.\n",
      "Some module may need to rebuild instead e.g. with 'pybind11>=2.12'.\n",
      "\n",
      "If you are a user of the module, the easiest solution will be to\n",
      "downgrade to 'numpy<2' or try to upgrade the affected module.\n",
      "We expect that some modules will need time to support NumPy 2.\n",
      "\n",
      "Traceback (most recent call last):  File \"/usr/local/lib/python3.11/runpy.py\", line 198, in _run_module_as_main\n",
      "    return _run_code(code, main_globals, None,\n",
      "  File \"/usr/local/lib/python3.11/runpy.py\", line 88, in _run_code\n",
      "    exec(code, run_globals)\n",
      "  File \"/home/jovyan/work/Python-3.11.0/myenv/lib/python3.11/site-packages/ipykernel_launcher.py\", line 18, in <module>\n",
      "    app.launch_new_instance()\n",
      "  File \"/home/jovyan/work/Python-3.11.0/myenv/lib/python3.11/site-packages/traitlets/config/application.py\", line 1075, in launch_instance\n",
      "    app.start()\n",
      "  File \"/home/jovyan/work/Python-3.11.0/myenv/lib/python3.11/site-packages/ipykernel/kernelapp.py\", line 739, in start\n",
      "    self.io_loop.start()\n",
      "  File \"/home/jovyan/work/Python-3.11.0/myenv/lib/python3.11/site-packages/tornado/platform/asyncio.py\", line 205, in start\n",
      "    self.asyncio_loop.run_forever()\n",
      "  File \"/usr/local/lib/python3.11/asyncio/base_events.py\", line 604, in run_forever\n",
      "    self._run_once()\n",
      "  File \"/usr/local/lib/python3.11/asyncio/base_events.py\", line 1909, in _run_once\n",
      "    handle._run()\n",
      "  File \"/usr/local/lib/python3.11/asyncio/events.py\", line 80, in _run\n",
      "    self._context.run(self._callback, *self._args)\n",
      "  File \"/home/jovyan/work/Python-3.11.0/myenv/lib/python3.11/site-packages/ipykernel/kernelbase.py\", line 545, in dispatch_queue\n",
      "    await self.process_one()\n",
      "  File \"/home/jovyan/work/Python-3.11.0/myenv/lib/python3.11/site-packages/ipykernel/kernelbase.py\", line 534, in process_one\n",
      "    await dispatch(*args)\n",
      "  File \"/home/jovyan/work/Python-3.11.0/myenv/lib/python3.11/site-packages/ipykernel/kernelbase.py\", line 437, in dispatch_shell\n",
      "    await result\n",
      "  File \"/home/jovyan/work/Python-3.11.0/myenv/lib/python3.11/site-packages/ipykernel/ipkernel.py\", line 362, in execute_request\n",
      "    await super().execute_request(stream, ident, parent)\n",
      "  File \"/home/jovyan/work/Python-3.11.0/myenv/lib/python3.11/site-packages/ipykernel/kernelbase.py\", line 778, in execute_request\n",
      "    reply_content = await reply_content\n",
      "  File \"/home/jovyan/work/Python-3.11.0/myenv/lib/python3.11/site-packages/ipykernel/ipkernel.py\", line 449, in do_execute\n",
      "    res = shell.run_cell(\n",
      "  File \"/home/jovyan/work/Python-3.11.0/myenv/lib/python3.11/site-packages/ipykernel/zmqshell.py\", line 549, in run_cell\n",
      "    return super().run_cell(*args, **kwargs)\n",
      "  File \"/home/jovyan/work/Python-3.11.0/myenv/lib/python3.11/site-packages/IPython/core/interactiveshell.py\", line 3075, in run_cell\n",
      "    result = self._run_cell(\n",
      "  File \"/home/jovyan/work/Python-3.11.0/myenv/lib/python3.11/site-packages/IPython/core/interactiveshell.py\", line 3130, in _run_cell\n",
      "    result = runner(coro)\n",
      "  File \"/home/jovyan/work/Python-3.11.0/myenv/lib/python3.11/site-packages/IPython/core/async_helpers.py\", line 128, in _pseudo_sync_runner\n",
      "    coro.send(None)\n",
      "  File \"/home/jovyan/work/Python-3.11.0/myenv/lib/python3.11/site-packages/IPython/core/interactiveshell.py\", line 3334, in run_cell_async\n",
      "    has_raised = await self.run_ast_nodes(code_ast.body, cell_name,\n",
      "  File \"/home/jovyan/work/Python-3.11.0/myenv/lib/python3.11/site-packages/IPython/core/interactiveshell.py\", line 3517, in run_ast_nodes\n",
      "    if await self.run_code(code, result, async_=asy):\n",
      "  File \"/home/jovyan/work/Python-3.11.0/myenv/lib/python3.11/site-packages/IPython/core/interactiveshell.py\", line 3577, in run_code\n",
      "    exec(code_obj, self.user_global_ns, self.user_ns)\n",
      "  File \"/tmp/ipykernel_284/2361202917.py\", line 2, in <module>\n",
      "    import pandas as pd\n",
      "  File \"/home/jovyan/work/Python-3.11.0/myenv/lib/python3.11/site-packages/pandas/__init__.py\", line 49, in <module>\n",
      "    from pandas.core.api import (\n",
      "  File \"/home/jovyan/work/Python-3.11.0/myenv/lib/python3.11/site-packages/pandas/core/api.py\", line 9, in <module>\n",
      "    from pandas.core.dtypes.dtypes import (\n",
      "  File \"/home/jovyan/work/Python-3.11.0/myenv/lib/python3.11/site-packages/pandas/core/dtypes/dtypes.py\", line 24, in <module>\n",
      "    from pandas._libs import (\n",
      "  File \"/home/jovyan/work/Python-3.11.0/myenv/lib/python3.11/site-packages/pyarrow/__init__.py\", line 65, in <module>\n",
      "    import pyarrow.lib as _lib\n"
     ]
    },
    {
     "ename": "AttributeError",
     "evalue": "_ARRAY_API not found",
     "output_type": "error",
     "traceback": [
      "\u001b[0;31m---------------------------------------------------------------------------\u001b[0m",
      "\u001b[0;31mAttributeError\u001b[0m                            Traceback (most recent call last)",
      "\u001b[0;31mAttributeError\u001b[0m: _ARRAY_API not found"
     ]
    }
   ],
   "source": [
    "import os\n",
    "import pandas as pd\n",
    "import pyspark\n",
    "from pyspark import SparkConf\n",
    "from pyspark.context import SparkContext\n",
    "from pyspark.sql.session import SparkSession \n",
    "from pyspark.ml.fpm import FPGrowth\n",
    "import pyspark.sql.functions as f\n",
    "\n",
    "# Step 1: Define Spark Configuration\n",
    "conf = SparkConf() \\\n",
    "    .setAppName(\"PodProcessing\") \\\n",
    "    .setMaster(\"local[4]\") \\\n",
    "    .set(\"spark.executor.memory\", \"300g\") \\\n",
    "    .set(\"spark.driver.memory\", \"300g\")\n",
    "\n",
    "# Step 2: Initialize SparkContext with the Configuration\n",
    "sc = SparkContext(conf=conf)\n",
    "\n",
    "# Step 3: Initialize SparkSession\n",
    "spark = SparkSession(sc)\n",
    "\n",
    "# Now you can continue with your Spark operations"
   ]
  },
  {
   "cell_type": "code",
   "execution_count": 2,
   "metadata": {},
   "outputs": [
    {
     "name": "stdout",
     "output_type": "stream",
     "text": [
      "Defaulting to user installation because normal site-packages is not writeable\n",
      "Requirement already satisfied: pymarc in ./.local/lib/python3.11/site-packages (5.2.3)\n"
     ]
    }
   ],
   "source": [
    "!pip3.11 install pymarc"
   ]
  },
  {
   "cell_type": "code",
   "execution_count": 3,
   "metadata": {},
   "outputs": [
    {
     "name": "stdout",
     "output_type": "stream",
     "text": [
      "Defaulting to user installation because normal site-packages is not writeable\n",
      "Requirement already satisfied: numpy<2 in ./.local/lib/python3.11/site-packages (1.26.4)\n"
     ]
    }
   ],
   "source": [
    "!pip3.11 install \"numpy<2\""
   ]
  },
  {
   "cell_type": "code",
   "execution_count": 4,
   "metadata": {},
   "outputs": [
    {
     "name": "stdout",
     "output_type": "stream",
     "text": [
      "Defaulting to user installation because normal site-packages is not writeable\n",
      "Requirement already satisfied: poetry in ./.local/lib/python3.11/site-packages (2.0.1)\n",
      "Requirement already satisfied: build<2.0.0,>=1.2.1 in ./.local/lib/python3.11/site-packages (from poetry) (1.2.2.post1)\n",
      "Requirement already satisfied: cachecontrol<0.15.0,>=0.14.0 in ./.local/lib/python3.11/site-packages (from cachecontrol[filecache]<0.15.0,>=0.14.0->poetry) (0.14.2)\n",
      "Requirement already satisfied: cleo<3.0.0,>=2.1.0 in ./.local/lib/python3.11/site-packages (from poetry) (2.1.0)\n",
      "Requirement already satisfied: dulwich<0.23.0,>=0.22.6 in ./.local/lib/python3.11/site-packages (from poetry) (0.22.7)\n",
      "Requirement already satisfied: fastjsonschema<3.0.0,>=2.18.0 in ./.local/lib/python3.11/site-packages (from poetry) (2.21.1)\n",
      "Requirement already satisfied: installer<0.8.0,>=0.7.0 in ./.local/lib/python3.11/site-packages (from poetry) (0.7.0)\n",
      "Requirement already satisfied: keyring<26.0.0,>=25.1.0 in ./.local/lib/python3.11/site-packages (from poetry) (25.6.0)\n",
      "Requirement already satisfied: packaging>=24.0 in ./.local/lib/python3.11/site-packages (from poetry) (24.2)\n",
      "Requirement already satisfied: pkginfo<2.0,>=1.12 in ./.local/lib/python3.11/site-packages (from poetry) (1.12.0)\n",
      "Requirement already satisfied: platformdirs<5,>=3.0.0 in ./.local/lib/python3.11/site-packages (from poetry) (4.3.6)\n",
      "Requirement already satisfied: poetry-core==2.0.1 in ./.local/lib/python3.11/site-packages (from poetry) (2.0.1)\n",
      "Requirement already satisfied: pyproject-hooks<2.0.0,>=1.0.0 in ./.local/lib/python3.11/site-packages (from poetry) (1.2.0)\n",
      "Requirement already satisfied: requests<3.0,>=2.26 in ./.local/lib/python3.11/site-packages (from poetry) (2.32.3)\n",
      "Requirement already satisfied: requests-toolbelt<2.0.0,>=1.0.0 in ./.local/lib/python3.11/site-packages (from poetry) (1.0.0)\n",
      "Requirement already satisfied: shellingham<2.0,>=1.5 in ./.local/lib/python3.11/site-packages (from poetry) (1.5.4)\n",
      "Requirement already satisfied: tomlkit<1.0.0,>=0.11.4 in ./.local/lib/python3.11/site-packages (from poetry) (0.13.2)\n",
      "Requirement already satisfied: trove-classifiers>=2022.5.19 in ./.local/lib/python3.11/site-packages (from poetry) (2025.1.15.22)\n",
      "Requirement already satisfied: virtualenv<21.0.0,>=20.26.6 in ./.local/lib/python3.11/site-packages (from poetry) (20.29.1)\n",
      "Requirement already satisfied: msgpack<2.0.0,>=0.5.2 in ./.local/lib/python3.11/site-packages (from cachecontrol<0.15.0,>=0.14.0->cachecontrol[filecache]<0.15.0,>=0.14.0->poetry) (1.1.0)\n",
      "Requirement already satisfied: filelock>=3.8.0 in ./.local/lib/python3.11/site-packages (from cachecontrol[filecache]<0.15.0,>=0.14.0->poetry) (3.17.0)\n",
      "Requirement already satisfied: crashtest<0.5.0,>=0.4.1 in ./.local/lib/python3.11/site-packages (from cleo<3.0.0,>=2.1.0->poetry) (0.4.1)\n",
      "Requirement already satisfied: rapidfuzz<4.0.0,>=3.0.0 in ./.local/lib/python3.11/site-packages (from cleo<3.0.0,>=2.1.0->poetry) (3.12.1)\n",
      "Requirement already satisfied: urllib3>=1.25 in ./.local/lib/python3.11/site-packages (from dulwich<0.23.0,>=0.22.6->poetry) (2.3.0)\n",
      "Requirement already satisfied: SecretStorage>=3.2 in ./.local/lib/python3.11/site-packages (from keyring<26.0.0,>=25.1.0->poetry) (3.3.3)\n",
      "Requirement already satisfied: jeepney>=0.4.2 in ./.local/lib/python3.11/site-packages (from keyring<26.0.0,>=25.1.0->poetry) (0.8.0)\n",
      "Requirement already satisfied: importlib_metadata>=4.11.4 in ./.local/lib/python3.11/site-packages (from keyring<26.0.0,>=25.1.0->poetry) (8.6.1)\n",
      "Requirement already satisfied: jaraco.classes in ./.local/lib/python3.11/site-packages (from keyring<26.0.0,>=25.1.0->poetry) (3.4.0)\n",
      "Requirement already satisfied: jaraco.functools in ./.local/lib/python3.11/site-packages (from keyring<26.0.0,>=25.1.0->poetry) (4.1.0)\n",
      "Requirement already satisfied: jaraco.context in ./.local/lib/python3.11/site-packages (from keyring<26.0.0,>=25.1.0->poetry) (6.0.1)\n",
      "Requirement already satisfied: charset-normalizer<4,>=2 in ./.local/lib/python3.11/site-packages (from requests<3.0,>=2.26->poetry) (3.4.1)\n",
      "Requirement already satisfied: idna<4,>=2.5 in ./.local/lib/python3.11/site-packages (from requests<3.0,>=2.26->poetry) (3.10)\n",
      "Requirement already satisfied: certifi>=2017.4.17 in ./.local/lib/python3.11/site-packages (from requests<3.0,>=2.26->poetry) (2024.12.14)\n",
      "Requirement already satisfied: distlib<1,>=0.3.7 in ./.local/lib/python3.11/site-packages (from virtualenv<21.0.0,>=20.26.6->poetry) (0.3.9)\n",
      "Requirement already satisfied: zipp>=3.20 in ./.local/lib/python3.11/site-packages (from importlib_metadata>=4.11.4->keyring<26.0.0,>=25.1.0->poetry) (3.21.0)\n",
      "Requirement already satisfied: cryptography>=2.0 in ./.local/lib/python3.11/site-packages (from SecretStorage>=3.2->keyring<26.0.0,>=25.1.0->poetry) (44.0.0)\n",
      "Requirement already satisfied: more-itertools in ./.local/lib/python3.11/site-packages (from jaraco.classes->keyring<26.0.0,>=25.1.0->poetry) (10.6.0)\n",
      "Requirement already satisfied: backports.tarfile in ./.local/lib/python3.11/site-packages (from jaraco.context->keyring<26.0.0,>=25.1.0->poetry) (1.2.0)\n",
      "Requirement already satisfied: cffi>=1.12 in ./.local/lib/python3.11/site-packages (from cryptography>=2.0->SecretStorage>=3.2->keyring<26.0.0,>=25.1.0->poetry) (1.17.1)\n",
      "Requirement already satisfied: pycparser in ./.local/lib/python3.11/site-packages (from cffi>=1.12->cryptography>=2.0->SecretStorage>=3.2->keyring<26.0.0,>=25.1.0->poetry) (2.22)\n"
     ]
    }
   ],
   "source": [
    "!pip3.11 install poetry"
   ]
  },
  {
   "cell_type": "code",
   "execution_count": 5,
   "metadata": {},
   "outputs": [
    {
     "name": "stdout",
     "output_type": "stream",
     "text": [
      "Defaulting to user installation because normal site-packages is not writeable\n",
      "Requirement already satisfied: pip in ./.local/lib/python3.11/site-packages (25.0)\n"
     ]
    }
   ],
   "source": [
    "!pip3.11 install --upgrade pip"
   ]
  },
  {
   "cell_type": "code",
   "execution_count": 6,
   "metadata": {},
   "outputs": [
    {
     "name": "stdout",
     "output_type": "stream",
     "text": [
      "Defaulting to user installation because normal site-packages is not writeable\n",
      "Requirement already satisfied: marctable in ./.local/lib/python3.11/site-packages (0.4.0)\n",
      "Requirement already satisfied: beautifulsoup4<5.0.0,>=4.12.2 in ./.local/lib/python3.11/site-packages (from marctable) (4.12.3)\n",
      "Requirement already satisfied: click<9.0.0,>=8.1.7 in ./.local/lib/python3.11/site-packages (from marctable) (8.1.8)\n",
      "Requirement already satisfied: pandas<3.0.0,>=2.1.4 in ./.local/lib/python3.11/site-packages (from marctable) (2.2.3)\n",
      "Requirement already satisfied: pyarrow<15.0.0,>=14.0.2 in ./.local/lib/python3.11/site-packages (from marctable) (14.0.2)\n",
      "Requirement already satisfied: pymarc<6.0.0,>=5.1.0 in ./.local/lib/python3.11/site-packages (from marctable) (5.2.3)\n",
      "Requirement already satisfied: requests<3.0.0,>=2.31.0 in ./.local/lib/python3.11/site-packages (from marctable) (2.32.3)\n",
      "Requirement already satisfied: soupsieve>1.2 in ./.local/lib/python3.11/site-packages (from beautifulsoup4<5.0.0,>=4.12.2->marctable) (2.6)\n",
      "Requirement already satisfied: numpy>=1.23.2 in ./.local/lib/python3.11/site-packages (from pandas<3.0.0,>=2.1.4->marctable) (1.26.4)\n",
      "Requirement already satisfied: python-dateutil>=2.8.2 in ./.local/lib/python3.11/site-packages (from pandas<3.0.0,>=2.1.4->marctable) (2.9.0.post0)\n",
      "Requirement already satisfied: pytz>=2020.1 in ./.local/lib/python3.11/site-packages (from pandas<3.0.0,>=2.1.4->marctable) (2024.2)\n",
      "Requirement already satisfied: tzdata>=2022.7 in ./.local/lib/python3.11/site-packages (from pandas<3.0.0,>=2.1.4->marctable) (2025.1)\n",
      "Requirement already satisfied: charset-normalizer<4,>=2 in ./.local/lib/python3.11/site-packages (from requests<3.0.0,>=2.31.0->marctable) (3.4.1)\n",
      "Requirement already satisfied: idna<4,>=2.5 in ./.local/lib/python3.11/site-packages (from requests<3.0.0,>=2.31.0->marctable) (3.10)\n",
      "Requirement already satisfied: urllib3<3,>=1.21.1 in ./.local/lib/python3.11/site-packages (from requests<3.0.0,>=2.31.0->marctable) (2.3.0)\n",
      "Requirement already satisfied: certifi>=2017.4.17 in ./.local/lib/python3.11/site-packages (from requests<3.0.0,>=2.31.0->marctable) (2024.12.14)\n",
      "Requirement already satisfied: six>=1.5 in ./.local/lib/python3.11/site-packages (from python-dateutil>=2.8.2->pandas<3.0.0,>=2.1.4->marctable) (1.17.0)\n"
     ]
    }
   ],
   "source": [
    "!pip3.11 install marctable"
   ]
  },
  {
   "cell_type": "code",
   "execution_count": 7,
   "metadata": {},
   "outputs": [],
   "source": [
    "import os\n",
    "\n",
    "# Add the directory to PATH\n",
    "os.environ['PATH'] += os.pathsep + '/home/jovyan/.local/bin'"
   ]
  },
  {
   "cell_type": "markdown",
   "metadata": {},
   "source": [
    "# Initial load only"
   ]
  },
  {
   "cell_type": "code",
   "execution_count": 14,
   "metadata": {},
   "outputs": [
    {
     "name": "stderr",
     "output_type": "stream",
     "text": [
      "2025-01-31 22:07:01,032 - INFO - Found 1 marc files\n",
      "2025-01-31 22:07:01,033 - INFO - Processing file /home/jovyan/work/columbia-2022-06-15-full-marc21.mrc\n",
      "2025-01-31 22:07:01,033 - INFO - Processing file /home/jovyan/work/columbia-2022-06-15-full-marc21.mrc\n",
      "/home/jovyan/work/Python-3.11.0/myenv/lib/python3.11/site-packages/pymarc/record.py:392: BadSubfieldCodeWarning: \n",
      "  warnings.warn(BadSubfieldCodeWarning())\n",
      "2025-01-31 22:21:56,146 - ERROR - Error processing file /home/jovyan/work/columbia-2022-06-15-full-marc21.mrc: Invalid MARC record\n",
      "2025-01-31 22:21:57,080 - INFO - Processed 1 files, 0 successful, 1 failed\n",
      "2025-01-31 22:21:57,081 - INFO - marc2parquet result: False\n"
     ]
    }
   ],
   "source": [
    "import os\n",
    "import glob\n",
    "import tempfile\n",
    "import logging\n",
    "from pymarc import MARCReader, Record\n",
    "\n",
    "# Configure logging\n",
    "logging.basicConfig(level=logging.INFO, format='%(asctime)s - %(levelname)s - %(message)s')\n",
    "logger = logging.getLogger(__name__)\n",
    "\n",
    "def get_files():\n",
    "    # Get a list of all MARC files\n",
    "    files = glob.glob('/home/jovyan/work/columbia-2022-06-15-full-marc21.mrc', recursive=True)\n",
    "    logger.info(f\"Found {len(files)} marc files\")\n",
    "    return files\n",
    "\n",
    "def process_file(file):\n",
    "    logger.info(f\"Processing file {file}\")\n",
    "\n",
    "    # Define the output directory for Parquet files\n",
    "    output_dir = '/home/jovyan/work/marc/parquet'\n",
    "    os.makedirs(output_dir, exist_ok=True)\n",
    "\n",
    "    # Create a temporary file to store valid MARC records\n",
    "    try:\n",
    "        with tempfile.NamedTemporaryFile(delete=False) as temp:\n",
    "            temp_file = temp.name\n",
    "    except Exception as e:\n",
    "        logger.error(f\"Error creating temporary file for {file}: {e}\")\n",
    "        return False\n",
    "\n",
    "    # Process the file in chunks\n",
    "    try:\n",
    "        with open(file, 'rb') as f_in, open(temp_file, 'wb') as temp_out:\n",
    "            if file.endswith('.xml'):\n",
    "                reader = XMLReader(f_in)\n",
    "            else:\n",
    "                reader = MARCReader(f_in)\n",
    "            for record in reader:\n",
    "                if not isinstance(record, Record):\n",
    "                    raise ValueError(\"Invalid MARC record\")\n",
    "                temp_out.write(record.as_marc())\n",
    "    except Exception as e:\n",
    "        logger.error(f\"Error processing file {file}: {e}\")\n",
    "        os.remove(temp_file)\n",
    "        return False\n",
    "\n",
    "    # Run the marctable command\n",
    "    output_file = os.path.join(output_dir, os.path.basename(file).replace('.mrc', '.parquet'))\n",
    "    logger.info(f\"Running marctable command: marctable parquet {temp_file} {output_file}\")\n",
    "    exit_status = os.system(f'marctable parquet {temp_file} {output_file}')\n",
    "    if exit_status != 0:\n",
    "        logger.error(f\"Error executing marctable command for file {file}\")\n",
    "        os.remove(temp_file)\n",
    "        return False\n",
    "    else:\n",
    "        logger.info(f\"Created Parquet file {output_file}\")\n",
    "\n",
    "    # Delete the temporary file\n",
    "    os.remove(temp_file)\n",
    "\n",
    "    return True\n",
    "\n",
    "def marc2parquet():\n",
    "    files = get_files()\n",
    "    results = []\n",
    "\n",
    "    for file in files:\n",
    "        # Check if the corresponding Parquet file already exists\n",
    "        output_file = os.path.join('/home/jovyan/work/marc/parquet', os.path.basename(file).replace('.mrc', '.parquet'))\n",
    "        if os.path.exists(output_file):\n",
    "            logger.info(f\"Skipping already processed file {file}\")\n",
    "            continue\n",
    "\n",
    "        result = process_file(file)\n",
    "        results.append(result)\n",
    "\n",
    "    successful_files = sum(results)\n",
    "    logger.info(f\"Processed {len(results)} files, {successful_files} successful, {len(results) - successful_files} failed\")\n",
    "\n",
    "    # Return True if all files were processed successfully, otherwise False\n",
    "    return all(results)\n",
    "\n",
    "# Run the function and capture the result\n",
    "result = marc2parquet()\n",
    "logger.info(f\"marc2parquet result: {result}\")"
   ]
  },
  {
   "cell_type": "markdown",
   "metadata": {},
   "source": [
    "# Load Parquet"
   ]
  },
  {
   "cell_type": "code",
   "execution_count": 15,
   "metadata": {},
   "outputs": [],
   "source": [
    "spark_df_penn = spark.read.parquet('/home/jovyan/work/marc/parquet/penn-2022-07-20-full-marc21.parquet')\n",
    "spark_df_brown = spark.read.parquet('/home/jovyan/work/marc/parquet/brown-2022-06-14-full-marc21.parquet')\n",
    "spark_df_chicago = spark.read.parquet('/home/jovyan/work/marc/parquet/chicago-2022-06-22-full-marc21.parquet')\n",
    "spark_df_cornell = spark.read.parquet('/home/jovyan/work/marc/parquet/chicago-2022-06-22-full-marc21.parquet')\n",
    "# columbia todo\n",
    "spark_df_dartmouth = spark.read.parquet('/home/jovyan/work/marc/parquet/dartmouth-2022-08-19-full-marc21.parquet')\n",
    "# duke todo\n",
    "# harvard todo\n",
    "spark_df_jhu = spark.read.parquet('/home/jovyan/work/marc/parquet/jhu-2023-08-23-full-marc21.parquet')\n",
    "spark_df_mit = spark.read.parquet('/home/jovyan/work/marc/parquet/mit-marc21.parquet')\n",
    "spark_df_princeton = spark.read.parquet('/home/jovyan/work/marc/parquet/princeton-2022-06-17-full-marc21.parquet')\n",
    "spark_df_stanford = spark.read.parquet('/home/jovyan/work/marc/parquet/stanford-2024-08-28-full-marc21.parquet')\n",
    "spark_df_yale = spark.read.parquet('/home/jovyan/work/marc/parquet/yale-2022-06-17-full-marc21.parquet')\n"
   ]
  },
  {
   "cell_type": "markdown",
   "metadata": {},
   "source": [
    "# Check for unique records across libraries"
   ]
  },
  {
   "cell_type": "code",
   "execution_count": 16,
   "metadata": {},
   "outputs": [
    {
     "name": "stdout",
     "output_type": "stream",
     "text": [
      "Number of common records: 59698\n",
      "Number of unique records in Penn: 6351281\n",
      "Number of unique records in Brown: 2393694\n",
      "Number of unique records in Chicago: 7292271\n",
      "Number of unique records in Cornell: 7292271\n",
      "Number of unique records in Dartmouth: 1584697\n",
      "Number of unique records in JHU: 1635214\n",
      "Number of unique records in MIT: 1338848\n",
      "Number of unique records in Princeton: 5874929\n",
      "Number of unique records in Stanford: 8076046\n",
      "Number of unique records in Yale: 7437992\n"
     ]
    }
   ],
   "source": [
    "# using spark sql, I need to query a field \n",
    "# and compare the two dataframes to find out how many records are common between \n",
    "# the two dataframes and how many are unique to each dataframe\n",
    "spark_df_penn.createOrReplaceTempView(\"penn\")\n",
    "spark_df_brown.createOrReplaceTempView(\"brown\")\n",
    "spark_df_chicago.createOrReplaceTempView(\"chicago\")\n",
    "spark_df_cornell.createOrReplaceTempView(\"cornell\")\n",
    "spark_df_dartmouth.createOrReplaceTempView(\"dartmouth\")\n",
    "spark_df_jhu.createOrReplaceTempView(\"jhu\")\n",
    "spark_df_mit.createOrReplaceTempView(\"mit\")\n",
    "spark_df_princeton.createOrReplaceTempView(\"princeton\")\n",
    "spark_df_stanford.createOrReplaceTempView(\"stanford\")\n",
    "spark_df_yale.createOrReplaceTempView(\"yale\")\n",
    "\n",
    "# Query the F245 field to get the OCLC number\n",
    "penn_oclc = spark.sql(\"SELECT F245 FROM penn\")\n",
    "brown_oclc = spark.sql(\"SELECT F245 FROM brown\")\n",
    "chicago_oclc = spark.sql(\"SELECT F245 FROM chicago\")\n",
    "cornell_oclc = spark.sql(\"SELECT F245 FROM cornell\")\n",
    "dartmouth_oclc = spark.sql(\"SELECT F245 FROM dartmouth\")\n",
    "jhu_oclc = spark.sql(\"SELECT F245 FROM jhu\")\n",
    "mit_oclc = spark.sql(\"SELECT F245 FROM mit\")\n",
    "princeton_oclc = spark.sql(\"SELECT F245 FROM princeton\")\n",
    "stanford_oclc = spark.sql(\"SELECT F245 FROM stanford\")\n",
    "yale_oclc = spark.sql(\"SELECT F245 FROM yale\")\n",
    "\n",
    "# Find the number of common records in each dataframe\n",
    "common_oclc = penn_oclc.intersect(brown_oclc).intersect(chicago_oclc).intersect(cornell_oclc).intersect(dartmouth_oclc).intersect(jhu_oclc).intersect(mit_oclc).intersect(princeton_oclc).intersect(stanford_oclc).intersect(yale_oclc)\n",
    "\n",
    "# Find the number of unique records in each dataframe\n",
    "unique_penn = penn_oclc.subtract(common_oclc)\n",
    "unique_brown = brown_oclc.subtract(common_oclc)\n",
    "unique_chicago = chicago_oclc.subtract(common_oclc)\n",
    "unique_cornell = cornell_oclc.subtract(common_oclc)\n",
    "unique_dartmouth = dartmouth_oclc.subtract(common_oclc)\n",
    "unique_jhu = jhu_oclc.subtract(common_oclc)\n",
    "unique_mit = mit_oclc.subtract(common_oclc)\n",
    "unique_princeton = princeton_oclc.subtract(common_oclc)\n",
    "unique_stanford = stanford_oclc.subtract(common_oclc)\n",
    "unique_yale = yale_oclc.subtract(common_oclc)\n",
    "\n",
    "# Print the results\n",
    "print(f\"Number of common records: {common_oclc.count()}\")\n",
    "print(f\"Number of unique records in Penn: {unique_penn.count()}\")\n",
    "print(f\"Number of unique records in Brown: {unique_brown.count()}\")\n",
    "print(f\"Number of unique records in Chicago: {unique_chicago.count()}\")\n",
    "print(f\"Number of unique records in Cornell: {unique_cornell.count()}\")\n",
    "print(f\"Number of unique records in Dartmouth: {unique_dartmouth.count()}\")\n",
    "print(f\"Number of unique records in JHU: {unique_jhu.count()}\")\n",
    "print(f\"Number of unique records in MIT: {unique_mit.count()}\")\n",
    "print(f\"Number of unique records in Princeton: {unique_princeton.count()}\")\n",
    "print(f\"Number of unique records in Stanford: {unique_stanford.count()}\")\n",
    "print(f\"Number of unique records in Yale: {unique_yale.count()}\")\n",
    "\n"
   ]
  },
  {
   "cell_type": "markdown",
   "metadata": {},
   "source": [
    "# Some trial SQL queries (older)"
   ]
  },
  {
   "cell_type": "markdown",
   "metadata": {},
   "source": []
  },
  {
   "cell_type": "code",
   "execution_count": null,
   "metadata": {},
   "outputs": [],
   "source": [
    "\n",
    "spark_df.createOrReplaceTempView(\"df\")\n",
    "df_001 = spark.sql(\"SELECT `001` FROM df\")\n",
    "# are there any null values?\n",
    "df_001.filter(df_001['001'].isNull()).count()\n",
    "#check if all records have 001 values\n"
   ]
  },
  {
   "cell_type": "code",
   "execution_count": null,
   "metadata": {},
   "outputs": [],
   "source": [
    "#approximate number of items that are portuguese language\n",
    "por = spark.sql(\"SELECT * FROM df WHERE `008` LIKE '%por%'\")\n",
    "count_por = por.count()\n",
    "print(count_por)\n"
   ]
  }
 ],
 "metadata": {
  "kernelspec": {
   "display_name": "Python 3.11 (myenv)",
   "language": "python",
   "name": "myenv"
  },
  "language_info": {
   "codemirror_mode": {
    "name": "ipython",
    "version": 3
   },
   "file_extension": ".py",
   "mimetype": "text/x-python",
   "name": "python",
   "nbconvert_exporter": "python",
   "pygments_lexer": "ipython3",
   "version": "3.11.0"
  }
 },
 "nbformat": 4,
 "nbformat_minor": 4
}
